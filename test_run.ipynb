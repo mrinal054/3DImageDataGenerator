{
 "cells": [
  {
   "cell_type": "markdown",
   "id": "97f13019",
   "metadata": {},
   "source": [
    "* keras `ImageDataGenerator` class works for 2D augmentation. \n",
    "* This code performs runtime (on-the-fly) 3D augmentation. \n",
    "* It utilizes the `DataGenerator` class described in https://stanford.edu/~shervine/blog/keras-how-to-generate-data-on-the-fly"
   ]
  },
  {
   "cell_type": "markdown",
   "id": "ad261445",
   "metadata": {},
   "source": [
    "## How to use the code?"
   ]
  },
  {
   "cell_type": "code",
   "execution_count": 1,
   "id": "3f210e4d",
   "metadata": {},
   "outputs": [
    {
     "name": "stderr",
     "output_type": "stream",
     "text": [
      "Using TensorFlow backend.\n"
     ]
    }
   ],
   "source": [
    "from aug_data_generator import DataGenerator\n",
    "import scipy.io as sio\n",
    "import random"
   ]
  },
  {
   "cell_type": "markdown",
   "id": "94da7719",
   "metadata": {},
   "source": [
    "#### Load dataset"
   ]
  },
  {
   "cell_type": "code",
   "execution_count": 2,
   "id": "e90bfa64",
   "metadata": {},
   "outputs": [],
   "source": [
    "dataset = sio.loadmat('dataset.mat')"
   ]
  },
  {
   "cell_type": "code",
   "execution_count": 3,
   "id": "a9b99e6e",
   "metadata": {},
   "outputs": [],
   "source": [
    "x = dataset['x'] # data"
   ]
  },
  {
   "cell_type": "code",
   "execution_count": 4,
   "id": "7282bf95",
   "metadata": {},
   "outputs": [
    {
     "data": {
      "text/plain": [
       "(20, 64, 64, 64, 1)"
      ]
     },
     "execution_count": 4,
     "metadata": {},
     "output_type": "execute_result"
    }
   ],
   "source": [
    "x.shape"
   ]
  },
  {
   "cell_type": "code",
   "execution_count": 5,
   "id": "eed65b89",
   "metadata": {},
   "outputs": [],
   "source": [
    "y = dataset['y'] # label"
   ]
  },
  {
   "cell_type": "code",
   "execution_count": 6,
   "id": "2b0b0851",
   "metadata": {},
   "outputs": [
    {
     "data": {
      "text/plain": [
       "(20, 64, 64, 64, 1)"
      ]
     },
     "execution_count": 6,
     "metadata": {},
     "output_type": "execute_result"
    }
   ],
   "source": [
    "y.shape"
   ]
  },
  {
   "cell_type": "markdown",
   "id": "3c1469c5",
   "metadata": {},
   "source": [
    "#### Set parameters"
   ]
  },
  {
   "cell_type": "markdown",
   "id": "ace15ff7",
   "metadata": {},
   "source": [
    "To do on-the-fly augmentation, set the `do_augmentation` to true. </br>\n",
    "Currently, it performs two augmentations - flip and rotation. </br></br>\n",
    "Example of how to use rotation:</br>\n",
    "'rotate_angle': random.sample(range(-15, 15), 3) </br>\n",
    "It will create 3 random rotation angles within the given range. Thus, the size of the rotation angle will be 1x3. For instance, (-10,5,12). Then it will rotate the data about x, y, and z axes by -10, 5, and 12 respectively. </br></br>\n",
    " \n",
    "Example of how to use flip:</br>\n",
    "To flip a data, the user needs to define the `flip_axis` parameter. It could be 1, 2, 3, or 'random'. For 'random', axis will be determined randomly. "
   ]
  },
  {
   "cell_type": "code",
   "execution_count": 7,
   "id": "e3a6cdfe",
   "metadata": {},
   "outputs": [],
   "source": [
    "# Parameters\n",
    "params = {'dim': (64,64,64),\n",
    "          'batch_size': 3,\n",
    "          'n_classes': 2,\n",
    "          'n_channels': 1,\n",
    "          'shuffle': False,\n",
    "          'to_category': True, # set it to true if you want categorical format, otherwise false.\n",
    "          'do_augmentation': True, # to do on-the-fly augmentation, set it to true. \n",
    "          'aug_list': ['rotate', 'flip'], # add types of augmenation you want. \n",
    "          # 'rotate_axis': 1,\n",
    "          'rotate_angle': random.sample(range(-30, 30), 3), # define rotation angles\n",
    "          'flip_axis': 'random', # set 1,2,3, or 'random'\n",
    "          }"
   ]
  },
  {
   "cell_type": "markdown",
   "id": "fb335c58",
   "metadata": {},
   "source": [
    "#### Create instances"
   ]
  },
  {
   "cell_type": "code",
   "execution_count": 8,
   "id": "3fee5359",
   "metadata": {},
   "outputs": [],
   "source": [
    "train_x, train_y = x[0:15], y[0:15] # training data\n",
    "val_x, val_y = x[15:20], y[15:20] # validation data\n",
    "\n",
    "training_generator = DataGenerator(train_x, train_y, **params)\n",
    "validation_generator = DataGenerator(val_x, val_y, **params)"
   ]
  },
  {
   "cell_type": "markdown",
   "id": "5417049b",
   "metadata": {},
   "source": [
    "Now, these two can be used in keras `fit_generator`"
   ]
  },
  {
   "cell_type": "code",
   "execution_count": 9,
   "id": "8767937a",
   "metadata": {},
   "outputs": [],
   "source": [
    "# Example\n",
    "history=model.fit_generator(generator=training_generator,\n",
    "                            validation_data=validation_generator,\n",
    "                            steps_per_epoch=len(train_x)//batch_size, \n",
    "                            verbose=1,\n",
    "                            epochs=200,\n",
    "                            )"
   ]
  },
  {
   "cell_type": "markdown",
   "id": "7c330b12",
   "metadata": {},
   "source": [
    "#### Additional"
   ]
  },
  {
   "cell_type": "markdown",
   "id": "358443d6",
   "metadata": {},
   "source": [
    "If you want to check the augmentation manually, you can do it in the following way. "
   ]
  },
  {
   "cell_type": "code",
   "execution_count": 10,
   "id": "a1127d4e",
   "metadata": {},
   "outputs": [
    {
     "data": {
      "text/plain": [
       "<aug_data_generator.DataGenerator at 0x230bafd82c8>"
      ]
     },
     "execution_count": 10,
     "metadata": {},
     "output_type": "execute_result"
    }
   ],
   "source": [
    "training_generator"
   ]
  },
  {
   "cell_type": "code",
   "execution_count": 11,
   "id": "ef202ed8",
   "metadata": {},
   "outputs": [],
   "source": [
    "g, p = training_generator[0]"
   ]
  },
  {
   "cell_type": "code",
   "execution_count": 12,
   "id": "a3071463",
   "metadata": {},
   "outputs": [
    {
     "data": {
      "text/plain": [
       "(3, 64, 64, 64, 1)"
      ]
     },
     "execution_count": 12,
     "metadata": {},
     "output_type": "execute_result"
    }
   ],
   "source": [
    "g.shape"
   ]
  },
  {
   "cell_type": "code",
   "execution_count": 13,
   "id": "40b02838",
   "metadata": {},
   "outputs": [
    {
     "data": {
      "text/plain": [
       "(3, 64, 64, 64, 2)"
      ]
     },
     "execution_count": 13,
     "metadata": {},
     "output_type": "execute_result"
    }
   ],
   "source": [
    "p.shape"
   ]
  },
  {
   "cell_type": "code",
   "execution_count": 14,
   "id": "8055460f",
   "metadata": {},
   "outputs": [],
   "source": [
    "sio.savemat('aug.mat', {'x':x[0:3], 'y':y[0:3], 'g':g, 'p':p})",
    "\n",
    "\n",
    "\n" ,
    "# Uncomment to check it using iterator \n",
    "# a = iter(training_generator),\n",
    "# x,y = next(a),\n"
   ]
  }
 ],
 "metadata": {
  "kernelspec": {
   "display_name": "gputest",
   "language": "python",
   "name": "gputest"
  },
  "language_info": {
   "codemirror_mode": {
    "name": "ipython",
    "version": 3
   },
   "file_extension": ".py",
   "mimetype": "text/x-python",
   "name": "python",
   "nbconvert_exporter": "python",
   "pygments_lexer": "ipython3",
   "version": "3.7.5"
  }
 },
 "nbformat": 4,
 "nbformat_minor": 5
}
